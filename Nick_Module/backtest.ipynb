{
 "cells": [
  {
   "cell_type": "code",
   "execution_count": 1,
   "metadata": {},
   "outputs": [],
   "source": [
    "from back_test import calculate_macd, backtest_macd_strategy, backtest_macd_strategy_52high\n",
    "import yfinance as yf\n",
    "import pandas as pd"
   ]
  },
  {
   "cell_type": "code",
   "execution_count": 2,
   "metadata": {},
   "outputs": [],
   "source": [
    "lst = pd.read_csv('/Users/nick0o0o0/Library/Mobile Documents/com~apple~CloudDocs/gxyfile/Trading/BackTest/2020-01-01Stage2.csv')"
   ]
  },
  {
   "cell_type": "code",
   "execution_count": 3,
   "metadata": {},
   "outputs": [],
   "source": [
    "lstt = lst['Ticker']"
   ]
  },
  {
   "cell_type": "code",
   "execution_count": 4,
   "metadata": {},
   "outputs": [
    {
     "name": "stderr",
     "output_type": "stream",
     "text": [
      "[*********************100%***********************]  1 of 1 completed\n"
     ]
    },
    {
     "name": "stdout",
     "output_type": "stream",
     "text": [
      "AAON - Results: 22.10%, Actual Return: 58.18%, Max Return: 62.99%\n"
     ]
    },
    {
     "name": "stderr",
     "output_type": "stream",
     "text": [
      "[*********************100%***********************]  1 of 1 completed\n"
     ]
    },
    {
     "name": "stdout",
     "output_type": "stream",
     "text": [
      "AAPL - Results: 78.01%, Actual Return: 123.41%, Max Return: 123.41%\n"
     ]
    },
    {
     "name": "stderr",
     "output_type": "stream",
     "text": [
      "[*********************100%***********************]  1 of 1 completed\n"
     ]
    },
    {
     "name": "stdout",
     "output_type": "stream",
     "text": [
      "ABG - Results: 60.38%, Actual Return: 46.99%, Max Return: 106.28%\n"
     ]
    },
    {
     "name": "stderr",
     "output_type": "stream",
     "text": [
      "[*********************100%***********************]  1 of 1 completed\n"
     ]
    },
    {
     "name": "stdout",
     "output_type": "stream",
     "text": [
      "ACA - Results: -11.49%, Actual Return: 12.61%, Max Return: 49.75%\n"
     ]
    },
    {
     "name": "stderr",
     "output_type": "stream",
     "text": [
      "[*********************100%***********************]  1 of 1 completed\n"
     ]
    },
    {
     "name": "stdout",
     "output_type": "stream",
     "text": [
      "ACGL - Results: 4.84%, Actual Return: -6.96%, Max Return: 11.01%\n"
     ]
    },
    {
     "name": "stderr",
     "output_type": "stream",
     "text": [
      "[*********************100%***********************]  1 of 1 completed\n"
     ]
    },
    {
     "name": "stdout",
     "output_type": "stream",
     "text": [
      "ACM - Results: 32.32%, Actual Return: 60.40%, Max Return: 74.78%\n"
     ]
    },
    {
     "name": "stderr",
     "output_type": "stream",
     "text": [
      "[*********************100%***********************]  1 of 1 completed\n"
     ]
    },
    {
     "name": "stdout",
     "output_type": "stream",
     "text": [
      "ACN - Results: 36.40%, Actual Return: 74.94%, Max Return: 82.46%\n"
     ]
    },
    {
     "name": "stderr",
     "output_type": "stream",
     "text": [
      "[*********************100%***********************]  1 of 1 completed\n"
     ]
    },
    {
     "name": "stdout",
     "output_type": "stream",
     "text": [
      "ACST - Results: 0.00%, Actual Return: -92.91%, Max Return: 0.00%\n"
     ]
    },
    {
     "name": "stderr",
     "output_type": "stream",
     "text": [
      "[*********************100%***********************]  1 of 1 completed\n",
      "[*********************100%***********************]  1 of 1 completed\n"
     ]
    },
    {
     "name": "stdout",
     "output_type": "stream",
     "text": [
      "ACU - Results: -26.19%, Actual Return: 50.18%, Max Return: 99.75%\n",
      "ACV - Results: 17.74%, Actual Return: 59.56%, Max Return: 73.82%\n"
     ]
    },
    {
     "name": "stderr",
     "output_type": "stream",
     "text": [
      "[*********************100%***********************]  1 of 1 completed\n"
     ]
    },
    {
     "name": "stdout",
     "output_type": "stream",
     "text": [
      "ADBE - Results: 75.69%, Actual Return: 100.30%, Max Return: 105.83%\n"
     ]
    },
    {
     "name": "stderr",
     "output_type": "stream",
     "text": [
      "[*********************100%***********************]  1 of 1 completed\n"
     ]
    },
    {
     "name": "stdout",
     "output_type": "stream",
     "text": [
      "ADI - Results: 11.81%, Actual Return: 54.71%, Max Return: 62.05%\n"
     ]
    },
    {
     "name": "stderr",
     "output_type": "stream",
     "text": [
      "[*********************100%***********************]  1 of 1 completed\n",
      "[*********************100%***********************]  1 of 1 completed\n"
     ]
    },
    {
     "name": "stdout",
     "output_type": "stream",
     "text": [
      "ADP - Results: 45.95%, Actual Return: 40.87%, Max Return: 45.18%\n",
      "ADT - Results: -8.26%, Actual Return: 13.33%, Max Return: 80.28%\n"
     ]
    },
    {
     "name": "stderr",
     "output_type": "stream",
     "text": [
      "[*********************100%***********************]  1 of 1 completed\n",
      "[*********************100%***********************]  1 of 1 completed"
     ]
    },
    {
     "name": "stdout",
     "output_type": "stream",
     "text": [
      "ADUS - Results: -6.77%, Actual Return: -8.26%, Max Return: 34.43%\n"
     ]
    },
    {
     "name": "stderr",
     "output_type": "stream",
     "text": [
      "\n"
     ]
    },
    {
     "name": "stdout",
     "output_type": "stream",
     "text": [
      "ADX - Results: 16.20%, Actual Return: 27.99%, Max Return: 50.25%\n"
     ]
    },
    {
     "name": "stderr",
     "output_type": "stream",
     "text": [
      "[*********************100%***********************]  1 of 1 completed\n",
      "[*********************100%***********************]  1 of 1 completed"
     ]
    },
    {
     "name": "stdout",
     "output_type": "stream",
     "text": [
      "AEHR - Results: 58.82%, Actual Return: 741.55%, Max Return: 1142.51%\n"
     ]
    },
    {
     "name": "stderr",
     "output_type": "stream",
     "text": [
      "\n"
     ]
    },
    {
     "name": "stdout",
     "output_type": "stream",
     "text": [
      "AEIS - Results: 5.05%, Actual Return: 22.79%, Max Return: 72.96%\n"
     ]
    },
    {
     "name": "stderr",
     "output_type": "stream",
     "text": [
      "[*********************100%***********************]  1 of 1 completed\n"
     ]
    },
    {
     "name": "stdout",
     "output_type": "stream",
     "text": [
      "AEM - Results: -1.04%, Actual Return: -14.85%, Max Return: 43.57%\n"
     ]
    },
    {
     "name": "stderr",
     "output_type": "stream",
     "text": [
      "[*********************100%***********************]  1 of 1 completed\n",
      "[*********************100%***********************]  1 of 1 completed\n"
     ]
    },
    {
     "name": "stdout",
     "output_type": "stream",
     "text": [
      "AEP - Results: -3.39%, Actual Return: -7.23%, Max Return: 12.40%\n",
      "AER - Results: -15.28%, Actual Return: -9.13%, Max Return: 11.97%\n"
     ]
    },
    {
     "name": "stderr",
     "output_type": "stream",
     "text": [
      "[*********************100%***********************]  1 of 1 completed\n",
      "[*********************100%***********************]  1 of 1 completed"
     ]
    },
    {
     "name": "stdout",
     "output_type": "stream",
     "text": [
      "AG - Results: -23.28%, Actual Return: -2.34%, Max Return: 81.01%\n"
     ]
    },
    {
     "name": "stderr",
     "output_type": "stream",
     "text": [
      "\n",
      "[*********************100%***********************]  1 of 1 completed\n"
     ]
    },
    {
     "name": "stdout",
     "output_type": "stream",
     "text": [
      "AGD - Results: 23.58%, Actual Return: 33.07%, Max Return: 36.79%\n",
      "AGEN - Results: -30.41%, Actual Return: -22.03%, Max Return: 64.11%\n"
     ]
    },
    {
     "name": "stderr",
     "output_type": "stream",
     "text": [
      "[*********************100%***********************]  1 of 1 completed"
     ]
    },
    {
     "name": "stdout",
     "output_type": "stream",
     "text": [
      "AGM - Results: 25.43%, Actual Return: 57.43%, Max Return: 76.95%\n"
     ]
    },
    {
     "name": "stderr",
     "output_type": "stream",
     "text": [
      "\n"
     ]
    }
   ],
   "source": [
    "for Ticker in lstt:\n",
    "    data = yf.download(Ticker, start='2020-01-01', end='2021-12-01')\n",
    "    data = calculate_macd(data)\n",
    "    results = backtest_macd_strategy_52high(data).drop_duplicates()\n",
    "    return_macd = (results['Balance'].iloc[-1] - results['Balance'].iloc[0]) / results['Balance'].iloc[0] * 100\n",
    "    actual_return = (results['Adj Close'].iloc[-1] - results['Adj Close'].iloc[0]) / results['Adj Close'].iloc[0] * 100\n",
    "    max_return = (results['Adj Close'].max()-results['Adj Close'].iloc[0])/results['Adj Close'].iloc[0] * 100\n",
    "    print(f\"{Ticker} - Results: {return_macd:.2f}%, Actual Return: {actual_return:.2f}%, Max Return: {max_return:.2f}%\")"
   ]
  },
  {
   "cell_type": "code",
   "execution_count": 5,
   "metadata": {},
   "outputs": [
    {
     "name": "stderr",
     "output_type": "stream",
     "text": [
      "[*********************100%***********************]  1 of 1 completed"
     ]
    },
    {
     "name": "stdout",
     "output_type": "stream",
     "text": [
      "17422.55950164795 10000.0\n",
      "74.2255950164795\n"
     ]
    },
    {
     "name": "stderr",
     "output_type": "stream",
     "text": [
      "\n"
     ]
    },
    {
     "data": {
      "text/html": [
       "<div>\n",
       "<style scoped>\n",
       "    .dataframe tbody tr th:only-of-type {\n",
       "        vertical-align: middle;\n",
       "    }\n",
       "\n",
       "    .dataframe tbody tr th {\n",
       "        vertical-align: top;\n",
       "    }\n",
       "\n",
       "    .dataframe thead th {\n",
       "        text-align: right;\n",
       "    }\n",
       "</style>\n",
       "<table border=\"1\" class=\"dataframe\">\n",
       "  <thead>\n",
       "    <tr style=\"text-align: right;\">\n",
       "      <th></th>\n",
       "      <th>Date</th>\n",
       "      <th>Open</th>\n",
       "      <th>High</th>\n",
       "      <th>Low</th>\n",
       "      <th>Close</th>\n",
       "      <th>Adj Close</th>\n",
       "      <th>Volume</th>\n",
       "      <th>EMA_short</th>\n",
       "      <th>EMA_long</th>\n",
       "      <th>MACD</th>\n",
       "      <th>Signal_Line</th>\n",
       "      <th>Cash</th>\n",
       "      <th>Position</th>\n",
       "      <th>Balance</th>\n",
       "    </tr>\n",
       "  </thead>\n",
       "  <tbody>\n",
       "    <tr>\n",
       "      <th>0</th>\n",
       "      <td>2020-01-02</td>\n",
       "      <td>35.959999</td>\n",
       "      <td>37.759998</td>\n",
       "      <td>35.900002</td>\n",
       "      <td>37.730000</td>\n",
       "      <td>35.245708</td>\n",
       "      <td>22688700</td>\n",
       "      <td>37.730000</td>\n",
       "      <td>37.730000</td>\n",
       "      <td>0.000000</td>\n",
       "      <td>0.000000</td>\n",
       "      <td>10000.000000</td>\n",
       "      <td>0</td>\n",
       "      <td>10000.000000</td>\n",
       "    </tr>\n",
       "    <tr>\n",
       "      <th>1</th>\n",
       "      <td>2020-01-03</td>\n",
       "      <td>36.779999</td>\n",
       "      <td>38.540001</td>\n",
       "      <td>36.680000</td>\n",
       "      <td>37.990002</td>\n",
       "      <td>35.488590</td>\n",
       "      <td>16929900</td>\n",
       "      <td>37.770000</td>\n",
       "      <td>37.749259</td>\n",
       "      <td>0.020741</td>\n",
       "      <td>0.004148</td>\n",
       "      <td>8.629559</td>\n",
       "      <td>263</td>\n",
       "      <td>10000.000000</td>\n",
       "    </tr>\n",
       "    <tr>\n",
       "      <th>2</th>\n",
       "      <td>2020-01-06</td>\n",
       "      <td>37.459999</td>\n",
       "      <td>38.080002</td>\n",
       "      <td>37.380001</td>\n",
       "      <td>38.000000</td>\n",
       "      <td>35.497932</td>\n",
       "      <td>9740100</td>\n",
       "      <td>37.805385</td>\n",
       "      <td>37.767832</td>\n",
       "      <td>0.037552</td>\n",
       "      <td>0.010829</td>\n",
       "      <td>8.629559</td>\n",
       "      <td>263</td>\n",
       "      <td>10002.629559</td>\n",
       "    </tr>\n",
       "    <tr>\n",
       "      <th>3</th>\n",
       "      <td>2020-01-07</td>\n",
       "      <td>38.080002</td>\n",
       "      <td>38.610001</td>\n",
       "      <td>37.639999</td>\n",
       "      <td>38.320000</td>\n",
       "      <td>35.796860</td>\n",
       "      <td>10131300</td>\n",
       "      <td>37.884556</td>\n",
       "      <td>37.808734</td>\n",
       "      <td>0.075822</td>\n",
       "      <td>0.023828</td>\n",
       "      <td>8.629559</td>\n",
       "      <td>263</td>\n",
       "      <td>10086.789478</td>\n",
       "    </tr>\n",
       "    <tr>\n",
       "      <th>4</th>\n",
       "      <td>2020-01-08</td>\n",
       "      <td>38.020000</td>\n",
       "      <td>38.849998</td>\n",
       "      <td>37.980000</td>\n",
       "      <td>38.299999</td>\n",
       "      <td>35.778179</td>\n",
       "      <td>11434700</td>\n",
       "      <td>37.948470</td>\n",
       "      <td>37.845124</td>\n",
       "      <td>0.103347</td>\n",
       "      <td>0.039731</td>\n",
       "      <td>8.629559</td>\n",
       "      <td>263</td>\n",
       "      <td>10081.529358</td>\n",
       "    </tr>\n",
       "    <tr>\n",
       "      <th>...</th>\n",
       "      <td>...</td>\n",
       "      <td>...</td>\n",
       "      <td>...</td>\n",
       "      <td>...</td>\n",
       "      <td>...</td>\n",
       "      <td>...</td>\n",
       "      <td>...</td>\n",
       "      <td>...</td>\n",
       "      <td>...</td>\n",
       "      <td>...</td>\n",
       "      <td>...</td>\n",
       "      <td>...</td>\n",
       "      <td>...</td>\n",
       "      <td>...</td>\n",
       "    </tr>\n",
       "    <tr>\n",
       "      <th>226</th>\n",
       "      <td>2020-11-23</td>\n",
       "      <td>88.540001</td>\n",
       "      <td>89.110001</td>\n",
       "      <td>86.419998</td>\n",
       "      <td>87.559998</td>\n",
       "      <td>81.794716</td>\n",
       "      <td>9925100</td>\n",
       "      <td>86.439311</td>\n",
       "      <td>84.713454</td>\n",
       "      <td>1.725857</td>\n",
       "      <td>1.869028</td>\n",
       "      <td>11.159813</td>\n",
       "      <td>204</td>\n",
       "      <td>17873.399315</td>\n",
       "    </tr>\n",
       "    <tr>\n",
       "      <th>227</th>\n",
       "      <td>2020-11-24</td>\n",
       "      <td>89.124001</td>\n",
       "      <td>90.290001</td>\n",
       "      <td>88.330002</td>\n",
       "      <td>89.820000</td>\n",
       "      <td>83.905907</td>\n",
       "      <td>9568100</td>\n",
       "      <td>86.959417</td>\n",
       "      <td>85.091716</td>\n",
       "      <td>1.867700</td>\n",
       "      <td>1.868762</td>\n",
       "      <td>11.159813</td>\n",
       "      <td>204</td>\n",
       "      <td>18334.439751</td>\n",
       "    </tr>\n",
       "    <tr>\n",
       "      <th>228</th>\n",
       "      <td>2020-11-25</td>\n",
       "      <td>87.964996</td>\n",
       "      <td>89.010002</td>\n",
       "      <td>86.760002</td>\n",
       "      <td>88.230003</td>\n",
       "      <td>82.420593</td>\n",
       "      <td>11424300</td>\n",
       "      <td>87.154892</td>\n",
       "      <td>85.324182</td>\n",
       "      <td>1.830709</td>\n",
       "      <td>1.861152</td>\n",
       "      <td>11.159813</td>\n",
       "      <td>204</td>\n",
       "      <td>18010.080498</td>\n",
       "    </tr>\n",
       "    <tr>\n",
       "      <th>229</th>\n",
       "      <td>2020-11-27</td>\n",
       "      <td>89.059998</td>\n",
       "      <td>89.790001</td>\n",
       "      <td>88.176003</td>\n",
       "      <td>89.410004</td>\n",
       "      <td>83.522903</td>\n",
       "      <td>5787600</td>\n",
       "      <td>87.501832</td>\n",
       "      <td>85.626836</td>\n",
       "      <td>1.874996</td>\n",
       "      <td>1.863921</td>\n",
       "      <td>11.159813</td>\n",
       "      <td>204</td>\n",
       "      <td>18250.800560</td>\n",
       "    </tr>\n",
       "    <tr>\n",
       "      <th>230</th>\n",
       "      <td>2020-11-30</td>\n",
       "      <td>88.239998</td>\n",
       "      <td>88.470001</td>\n",
       "      <td>83.309998</td>\n",
       "      <td>85.349998</td>\n",
       "      <td>79.730217</td>\n",
       "      <td>18014400</td>\n",
       "      <td>87.170781</td>\n",
       "      <td>85.606329</td>\n",
       "      <td>1.564451</td>\n",
       "      <td>1.804027</td>\n",
       "      <td>11.159813</td>\n",
       "      <td>204</td>\n",
       "      <td>17422.559502</td>\n",
       "    </tr>\n",
       "  </tbody>\n",
       "</table>\n",
       "<p>231 rows × 14 columns</p>\n",
       "</div>"
      ],
      "text/plain": [
       "          Date       Open       High        Low      Close  Adj Close  \\\n",
       "0   2020-01-02  35.959999  37.759998  35.900002  37.730000  35.245708   \n",
       "1   2020-01-03  36.779999  38.540001  36.680000  37.990002  35.488590   \n",
       "2   2020-01-06  37.459999  38.080002  37.380001  38.000000  35.497932   \n",
       "3   2020-01-07  38.080002  38.610001  37.639999  38.320000  35.796860   \n",
       "4   2020-01-08  38.020000  38.849998  37.980000  38.299999  35.778179   \n",
       "..         ...        ...        ...        ...        ...        ...   \n",
       "226 2020-11-23  88.540001  89.110001  86.419998  87.559998  81.794716   \n",
       "227 2020-11-24  89.124001  90.290001  88.330002  89.820000  83.905907   \n",
       "228 2020-11-25  87.964996  89.010002  86.760002  88.230003  82.420593   \n",
       "229 2020-11-27  89.059998  89.790001  88.176003  89.410004  83.522903   \n",
       "230 2020-11-30  88.239998  88.470001  83.309998  85.349998  79.730217   \n",
       "\n",
       "       Volume  EMA_short   EMA_long      MACD  Signal_Line          Cash  \\\n",
       "0    22688700  37.730000  37.730000  0.000000     0.000000  10000.000000   \n",
       "1    16929900  37.770000  37.749259  0.020741     0.004148      8.629559   \n",
       "2     9740100  37.805385  37.767832  0.037552     0.010829      8.629559   \n",
       "3    10131300  37.884556  37.808734  0.075822     0.023828      8.629559   \n",
       "4    11434700  37.948470  37.845124  0.103347     0.039731      8.629559   \n",
       "..        ...        ...        ...       ...          ...           ...   \n",
       "226   9925100  86.439311  84.713454  1.725857     1.869028     11.159813   \n",
       "227   9568100  86.959417  85.091716  1.867700     1.868762     11.159813   \n",
       "228  11424300  87.154892  85.324182  1.830709     1.861152     11.159813   \n",
       "229   5787600  87.501832  85.626836  1.874996     1.863921     11.159813   \n",
       "230  18014400  87.170781  85.606329  1.564451     1.804027     11.159813   \n",
       "\n",
       "     Position       Balance  \n",
       "0           0  10000.000000  \n",
       "1         263  10000.000000  \n",
       "2         263  10002.629559  \n",
       "3         263  10086.789478  \n",
       "4         263  10081.529358  \n",
       "..        ...           ...  \n",
       "226       204  17873.399315  \n",
       "227       204  18334.439751  \n",
       "228       204  18010.080498  \n",
       "229       204  18250.800560  \n",
       "230       204  17422.559502  \n",
       "\n",
       "[231 rows x 14 columns]"
      ]
     },
     "execution_count": 5,
     "metadata": {},
     "output_type": "execute_result"
    }
   ],
   "source": [
    "ticker = \"JD\"\n",
    "start_date = \"2020-01-01\"\n",
    "end_date = \"2020-12-01\"\n",
    "df = yf.download(ticker, start=start_date, end=end_date)\n",
    "df = calculate_macd(df)\n",
    "final_df = backtest_macd_strategy(df)\n",
    "print(final_df['Balance'].iloc[-1],final_df['Balance'].iloc[0])\n",
    "print((final_df['Balance'].iloc[-1]-final_df['Balance'].iloc[0])/final_df['Balance'].iloc[0]*100)\n",
    "final_df"
   ]
  }
 ],
 "metadata": {
  "kernelspec": {
   "display_name": "Python 3",
   "language": "python",
   "name": "python3"
  },
  "language_info": {
   "codemirror_mode": {
    "name": "ipython",
    "version": 3
   },
   "file_extension": ".py",
   "mimetype": "text/x-python",
   "name": "python",
   "nbconvert_exporter": "python",
   "pygments_lexer": "ipython3",
   "version": "3.11.1"
  }
 },
 "nbformat": 4,
 "nbformat_minor": 2
}
