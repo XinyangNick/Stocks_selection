{
 "cells": [
  {
   "cell_type": "code",
   "execution_count": null,
   "metadata": {
    "vscode": {
     "languageId": "plaintext"
    }
   },
   "outputs": [],
   "source": [
    "import yfinance as yf\n",
    "\n",
    "msft = yf.Ticker(\"MSFT\")\n",
    "\n",
    "# get all stock info\n",
    "msft.info\n",
    "\n",
    "# get historical market data\n",
    "hist = msft.history(period=\"1mo\")\n",
    "\n",
    "# show meta information about the history (requires history() to be called first)\n",
    "msft.history_metadata\n",
    "\n",
    "# show actions (dividends, splits, capital gains)\n",
    "msft.actions\n",
    "msft.dividends\n",
    "msft.splits\n",
    "msft.capital_gains  # only for mutual funds & etfs\n",
    "\n",
    "# show share count\n",
    "msft.get_shares_full(start=\"2022-01-01\", end=None)\n",
    "\n",
    "# show financials:\n",
    "msft.calendar\n",
    "msft.sec_filings\n",
    "# - income statement\n",
    "msft.income_stmt\n",
    "msft.quarterly_income_stmt\n",
    "# - balance sheet\n",
    "msft.balance_sheet\n",
    "msft.quarterly_balance_sheet\n",
    "# - cash flow statement\n",
    "msft.cashflow\n",
    "msft.quarterly_cashflow\n",
    "# see `Ticker.get_income_stmt()` for more options\n",
    "\n",
    "# show holders\n",
    "msft.major_holders\n",
    "msft.institutional_holders\n",
    "msft.mutualfund_holders\n",
    "msft.insider_transactions\n",
    "msft.insider_purchases\n",
    "msft.insider_roster_holders\n",
    "\n",
    "msft.sustainability\n",
    "\n",
    "# show recommendations\n",
    "msft.recommendations\n",
    "msft.recommendations_summary\n",
    "msft.upgrades_downgrades\n",
    "\n",
    "# show analysts data\n",
    "msft.analyst_price_targets\n",
    "msft.earnings_estimate\n",
    "msft.revenue_estimate\n",
    "msft.earnings_history\n",
    "msft.eps_trend\n",
    "msft.eps_revisions\n",
    "msft.growth_estimates\n",
    "\n",
    "# Show future and historic earnings dates, returns at most next 4 quarters and last 8 quarters by default.\n",
    "# Note: If more are needed use msft.get_earnings_dates(limit=XX) with increased limit argument.\n",
    "msft.earnings_dates\n",
    "\n",
    "# show ISIN code - *experimental*\n",
    "# ISIN = International Securities Identification Number\n",
    "msft.isin\n",
    "\n",
    "# show options expirations\n",
    "msft.options\n",
    "\n",
    "# show news\n",
    "msft.news\n",
    "\n",
    "# get option chain for specific expiration\n",
    "opt = msft.option_chain('YYYY-MM-DD')\n",
    "# data available via: opt.calls, opt.puts"
   ]
  },
  {
   "cell_type": "code",
   "execution_count": null,
   "metadata": {
    "vscode": {
     "languageId": "plaintext"
    }
   },
   "outputs": [],
   "source": [
    "import yfinance as yf\n",
    "spy = yf.Ticker('SPY')\n",
    "data = spy.funds_data\n",
    "\n",
    "# show fund description\n",
    "data.description\n",
    "\n",
    "# show operational information\n",
    "data.fund_overview\n",
    "data.fund_operations\n",
    "\n",
    "# show holdings related information\n",
    "data.asset_classes\n",
    "data.top_holdings\n",
    "data.equity_holdings\n",
    "data.bond_holdings\n",
    "data.bond_ratings\n",
    "data.sector_weightings"
   ]
  },
  {
   "cell_type": "code",
   "execution_count": null,
   "metadata": {
    "vscode": {
     "languageId": "plaintext"
    }
   },
   "outputs": [],
   "source": [
    "import yfinance as yf\n",
    "\n",
    "tech = yf.Sector('technology')\n",
    "software = yf.Industry('software-infrastructure')\n",
    "\n",
    "# Common information\n",
    "tech.key\n",
    "tech.name\n",
    "tech.symbol\n",
    "tech.ticker\n",
    "tech.overview\n",
    "tech.top_companies\n",
    "tech.research_reports\n",
    "\n",
    "# Sector information\n",
    "tech.top_etfs\n",
    "tech.top_mutual_funds\n",
    "tech.industries\n",
    "\n",
    "# Industry information\n",
    "software.sector_key\n",
    "software.sector_name\n",
    "software.top_performing_companies\n",
    "software.top_growth_companies"
   ]
  },
  {
   "cell_type": "code",
   "execution_count": null,
   "metadata": {
    "vscode": {
     "languageId": "plaintext"
    }
   },
   "outputs": [],
   "source": []
  }
 ],
 "metadata": {
  "language_info": {
   "name": "python"
  }
 },
 "nbformat": 4,
 "nbformat_minor": 2
}
