{
 "cells": [
  {
   "cell_type": "code",
   "execution_count": 1,
   "metadata": {},
   "outputs": [],
   "source": [
    "import Nick_Module.selection_function as selection_function\n",
    "import yfinance as yf\n",
    "import pandas as pd"
   ]
  },
  {
   "cell_type": "code",
   "execution_count": 2,
   "metadata": {},
   "outputs": [
    {
     "name": "stderr",
     "output_type": "stream",
     "text": [
      "[*********************100%***********************]  1 of 1 completed\n"
     ]
    },
    {
     "data": {
      "text/html": [
       "<div>\n",
       "<style scoped>\n",
       "    .dataframe tbody tr th:only-of-type {\n",
       "        vertical-align: middle;\n",
       "    }\n",
       "\n",
       "    .dataframe tbody tr th {\n",
       "        vertical-align: top;\n",
       "    }\n",
       "\n",
       "    .dataframe thead th {\n",
       "        text-align: right;\n",
       "    }\n",
       "</style>\n",
       "<table border=\"1\" class=\"dataframe\">\n",
       "  <thead>\n",
       "    <tr style=\"text-align: right;\">\n",
       "      <th></th>\n",
       "      <th>Open</th>\n",
       "      <th>High</th>\n",
       "      <th>Low</th>\n",
       "      <th>Close</th>\n",
       "      <th>Adj Close</th>\n",
       "      <th>Volume</th>\n",
       "    </tr>\n",
       "    <tr>\n",
       "      <th>Date</th>\n",
       "      <th></th>\n",
       "      <th></th>\n",
       "      <th></th>\n",
       "      <th></th>\n",
       "      <th></th>\n",
       "      <th></th>\n",
       "    </tr>\n",
       "  </thead>\n",
       "  <tbody>\n",
       "    <tr>\n",
       "      <th>2022-10-18</th>\n",
       "      <td>3746.260010</td>\n",
       "      <td>3762.790039</td>\n",
       "      <td>3686.530029</td>\n",
       "      <td>3719.979980</td>\n",
       "      <td>3719.979980</td>\n",
       "      <td>4483740000</td>\n",
       "    </tr>\n",
       "    <tr>\n",
       "      <th>2022-10-19</th>\n",
       "      <td>3703.110107</td>\n",
       "      <td>3728.580078</td>\n",
       "      <td>3666.510010</td>\n",
       "      <td>3695.159912</td>\n",
       "      <td>3695.159912</td>\n",
       "      <td>4223800000</td>\n",
       "    </tr>\n",
       "    <tr>\n",
       "      <th>2022-10-20</th>\n",
       "      <td>3689.050049</td>\n",
       "      <td>3736.000000</td>\n",
       "      <td>3656.439941</td>\n",
       "      <td>3665.780029</td>\n",
       "      <td>3665.780029</td>\n",
       "      <td>4496620000</td>\n",
       "    </tr>\n",
       "    <tr>\n",
       "      <th>2022-10-21</th>\n",
       "      <td>3657.100098</td>\n",
       "      <td>3757.889893</td>\n",
       "      <td>3647.419922</td>\n",
       "      <td>3752.750000</td>\n",
       "      <td>3752.750000</td>\n",
       "      <td>5078020000</td>\n",
       "    </tr>\n",
       "    <tr>\n",
       "      <th>2022-10-24</th>\n",
       "      <td>3762.010010</td>\n",
       "      <td>3810.739990</td>\n",
       "      <td>3741.649902</td>\n",
       "      <td>3797.340088</td>\n",
       "      <td>3797.340088</td>\n",
       "      <td>4747930000</td>\n",
       "    </tr>\n",
       "    <tr>\n",
       "      <th>...</th>\n",
       "      <td>...</td>\n",
       "      <td>...</td>\n",
       "      <td>...</td>\n",
       "      <td>...</td>\n",
       "      <td>...</td>\n",
       "      <td>...</td>\n",
       "    </tr>\n",
       "    <tr>\n",
       "      <th>2024-10-11</th>\n",
       "      <td>5775.089844</td>\n",
       "      <td>5822.129883</td>\n",
       "      <td>5775.089844</td>\n",
       "      <td>5815.029785</td>\n",
       "      <td>5815.029785</td>\n",
       "      <td>3208720000</td>\n",
       "    </tr>\n",
       "    <tr>\n",
       "      <th>2024-10-14</th>\n",
       "      <td>5829.810059</td>\n",
       "      <td>5871.410156</td>\n",
       "      <td>5829.569824</td>\n",
       "      <td>5859.850098</td>\n",
       "      <td>5859.850098</td>\n",
       "      <td>3005250000</td>\n",
       "    </tr>\n",
       "    <tr>\n",
       "      <th>2024-10-15</th>\n",
       "      <td>5866.740234</td>\n",
       "      <td>5870.359863</td>\n",
       "      <td>5804.479980</td>\n",
       "      <td>5815.259766</td>\n",
       "      <td>5815.259766</td>\n",
       "      <td>3882120000</td>\n",
       "    </tr>\n",
       "    <tr>\n",
       "      <th>2024-10-16</th>\n",
       "      <td>5816.580078</td>\n",
       "      <td>5846.520020</td>\n",
       "      <td>5808.339844</td>\n",
       "      <td>5842.470215</td>\n",
       "      <td>5842.470215</td>\n",
       "      <td>3467230000</td>\n",
       "    </tr>\n",
       "    <tr>\n",
       "      <th>2024-10-17</th>\n",
       "      <td>5875.620117</td>\n",
       "      <td>5878.459961</td>\n",
       "      <td>5840.250000</td>\n",
       "      <td>5841.470215</td>\n",
       "      <td>5841.470215</td>\n",
       "      <td>2394376000</td>\n",
       "    </tr>\n",
       "  </tbody>\n",
       "</table>\n",
       "<p>503 rows × 6 columns</p>\n",
       "</div>"
      ],
      "text/plain": [
       "                   Open         High          Low        Close    Adj Close  \\\n",
       "Date                                                                          \n",
       "2022-10-18  3746.260010  3762.790039  3686.530029  3719.979980  3719.979980   \n",
       "2022-10-19  3703.110107  3728.580078  3666.510010  3695.159912  3695.159912   \n",
       "2022-10-20  3689.050049  3736.000000  3656.439941  3665.780029  3665.780029   \n",
       "2022-10-21  3657.100098  3757.889893  3647.419922  3752.750000  3752.750000   \n",
       "2022-10-24  3762.010010  3810.739990  3741.649902  3797.340088  3797.340088   \n",
       "...                 ...          ...          ...          ...          ...   \n",
       "2024-10-11  5775.089844  5822.129883  5775.089844  5815.029785  5815.029785   \n",
       "2024-10-14  5829.810059  5871.410156  5829.569824  5859.850098  5859.850098   \n",
       "2024-10-15  5866.740234  5870.359863  5804.479980  5815.259766  5815.259766   \n",
       "2024-10-16  5816.580078  5846.520020  5808.339844  5842.470215  5842.470215   \n",
       "2024-10-17  5875.620117  5878.459961  5840.250000  5841.470215  5841.470215   \n",
       "\n",
       "                Volume  \n",
       "Date                    \n",
       "2022-10-18  4483740000  \n",
       "2022-10-19  4223800000  \n",
       "2022-10-20  4496620000  \n",
       "2022-10-21  5078020000  \n",
       "2022-10-24  4747930000  \n",
       "...                ...  \n",
       "2024-10-11  3208720000  \n",
       "2024-10-14  3005250000  \n",
       "2024-10-15  3882120000  \n",
       "2024-10-16  3467230000  \n",
       "2024-10-17  2394376000  \n",
       "\n",
       "[503 rows x 6 columns]"
      ]
     },
     "execution_count": 2,
     "metadata": {},
     "output_type": "execute_result"
    }
   ],
   "source": [
    "x = selection_function.Benchmark_Data()\n",
    "x"
   ]
  },
  {
   "cell_type": "code",
   "execution_count": 3,
   "metadata": {},
   "outputs": [
    {
     "name": "stderr",
     "output_type": "stream",
     "text": [
      "[*********************100%***********************]  1 of 1 completed\n",
      "[*********************100%***********************]  1 of 1 completed\n"
     ]
    }
   ],
   "source": [
    "ticker = 'AAPL'  # Example: Apple\n",
    "\n",
    "# Download the stock data\n",
    "hist = yf.download(ticker, period='2y')\n",
    "\n",
    "# Get the estimated EPS from analysis (quarterly estimate data)\n",
    "\n",
    "\n",
    "ticker2 = 'HROW'\n",
    "\n",
    "hist2 = selection_function.Stock_Data(ticker2)\n",
    "\n",
    "benchmark = selection_function.Benchmark_Data()\n"
   ]
  },
  {
   "cell_type": "code",
   "execution_count": null,
   "metadata": {},
   "outputs": [],
   "source": []
  },
  {
   "cell_type": "code",
   "execution_count": 4,
   "metadata": {},
   "outputs": [
    {
     "data": {
      "text/plain": [
       "np.float64(48.11099987030029)"
      ]
     },
     "execution_count": 4,
     "metadata": {},
     "output_type": "execute_result"
    }
   ],
   "source": [
    "selection_function.MA(hist2, 20, -2)"
   ]
  },
  {
   "cell_type": "code",
   "execution_count": 5,
   "metadata": {},
   "outputs": [
    {
     "data": {
      "text/html": [
       "<div>\n",
       "<style scoped>\n",
       "    .dataframe tbody tr th:only-of-type {\n",
       "        vertical-align: middle;\n",
       "    }\n",
       "\n",
       "    .dataframe tbody tr th {\n",
       "        vertical-align: top;\n",
       "    }\n",
       "\n",
       "    .dataframe thead th {\n",
       "        text-align: right;\n",
       "    }\n",
       "</style>\n",
       "<table border=\"1\" class=\"dataframe\">\n",
       "  <thead>\n",
       "    <tr style=\"text-align: right;\">\n",
       "      <th></th>\n",
       "      <th>Open</th>\n",
       "      <th>High</th>\n",
       "      <th>Low</th>\n",
       "      <th>Close</th>\n",
       "      <th>Volume</th>\n",
       "      <th>Dividends</th>\n",
       "      <th>Stock Splits</th>\n",
       "    </tr>\n",
       "    <tr>\n",
       "      <th>Date</th>\n",
       "      <th></th>\n",
       "      <th></th>\n",
       "      <th></th>\n",
       "      <th></th>\n",
       "      <th></th>\n",
       "      <th></th>\n",
       "      <th></th>\n",
       "    </tr>\n",
       "  </thead>\n",
       "  <tbody>\n",
       "    <tr>\n",
       "      <th>2022-10-18 00:00:00-04:00</th>\n",
       "      <td>12.04</td>\n",
       "      <td>12.41</td>\n",
       "      <td>11.83</td>\n",
       "      <td>12.02</td>\n",
       "      <td>283700</td>\n",
       "      <td>0.0</td>\n",
       "      <td>0.0</td>\n",
       "    </tr>\n",
       "    <tr>\n",
       "      <th>2022-10-19 00:00:00-04:00</th>\n",
       "      <td>11.91</td>\n",
       "      <td>12.25</td>\n",
       "      <td>11.47</td>\n",
       "      <td>11.70</td>\n",
       "      <td>142000</td>\n",
       "      <td>0.0</td>\n",
       "      <td>0.0</td>\n",
       "    </tr>\n",
       "    <tr>\n",
       "      <th>2022-10-20 00:00:00-04:00</th>\n",
       "      <td>11.85</td>\n",
       "      <td>12.05</td>\n",
       "      <td>11.35</td>\n",
       "      <td>11.82</td>\n",
       "      <td>133900</td>\n",
       "      <td>0.0</td>\n",
       "      <td>0.0</td>\n",
       "    </tr>\n",
       "  </tbody>\n",
       "</table>\n",
       "</div>"
      ],
      "text/plain": [
       "                            Open   High    Low  Close  Volume  Dividends  \\\n",
       "Date                                                                       \n",
       "2022-10-18 00:00:00-04:00  12.04  12.41  11.83  12.02  283700        0.0   \n",
       "2022-10-19 00:00:00-04:00  11.91  12.25  11.47  11.70  142000        0.0   \n",
       "2022-10-20 00:00:00-04:00  11.85  12.05  11.35  11.82  133900        0.0   \n",
       "\n",
       "                           Stock Splits  \n",
       "Date                                     \n",
       "2022-10-18 00:00:00-04:00           0.0  \n",
       "2022-10-19 00:00:00-04:00           0.0  \n",
       "2022-10-20 00:00:00-04:00           0.0  "
      ]
     },
     "execution_count": 5,
     "metadata": {},
     "output_type": "execute_result"
    }
   ],
   "source": [
    "hist2.head(3)"
   ]
  },
  {
   "cell_type": "code",
   "execution_count": 6,
   "metadata": {},
   "outputs": [],
   "source": [
    "closed_ = hist2['Close']"
   ]
  },
  {
   "cell_type": "code",
   "execution_count": 7,
   "metadata": {},
   "outputs": [
    {
     "data": {
      "text/plain": [
       "np.float64(3329.6299962997437)"
      ]
     },
     "execution_count": 7,
     "metadata": {},
     "output_type": "execute_result"
    }
   ],
   "source": [
    "closed_[-(29+200):-29].sum()"
   ]
  },
  {
   "cell_type": "code",
   "execution_count": null,
   "metadata": {},
   "outputs": [],
   "source": []
  },
  {
   "cell_type": "code",
   "execution_count": 8,
   "metadata": {},
   "outputs": [
    {
     "data": {
      "text/plain": [
       "Date\n",
       "2022-10-18 00:00:00-04:00    12.020000\n",
       "2022-10-19 00:00:00-04:00    11.700000\n",
       "2022-10-20 00:00:00-04:00    11.820000\n",
       "2022-10-21 00:00:00-04:00    11.250000\n",
       "2022-10-24 00:00:00-04:00    11.330000\n",
       "                               ...    \n",
       "2024-08-30 00:00:00-04:00    40.459999\n",
       "2024-09-03 00:00:00-04:00    39.630001\n",
       "2024-09-04 00:00:00-04:00    39.290001\n",
       "2024-09-05 00:00:00-04:00    40.040001\n",
       "2024-09-06 00:00:00-04:00    37.980000\n",
       "Name: Close, Length: 474, dtype: float64"
      ]
     },
     "execution_count": 8,
     "metadata": {},
     "output_type": "execute_result"
    }
   ],
   "source": [
    "closed_[:-29]"
   ]
  },
  {
   "cell_type": "code",
   "execution_count": 9,
   "metadata": {},
   "outputs": [
    {
     "name": "stderr",
     "output_type": "stream",
     "text": [
      "/Users/nick0o0o0/Library/Mobile Documents/com~apple~CloudDocs/gxyfile/Trading/Stocks_selection/trading_function.py:92: FutureWarning: Series.__getitem__ treating keys as positions is deprecated. In a future version, integer keys will always be treated as labels (consistent with DataFrame behavior). To access a value by position, use `ser.iloc[pos]`\n",
      "  last_price = history['Close'][-1]\n"
     ]
    },
    {
     "data": {
      "text/plain": [
       "(True, [1, 2, 3, 4, 5, 6, 7, 8])"
      ]
     },
     "execution_count": 9,
     "metadata": {},
     "output_type": "execute_result"
    }
   ],
   "source": [
    "selection_function.Stage2_Confirmed_Criteria(hist2, benchmark)"
   ]
  },
  {
   "cell_type": "markdown",
   "metadata": {},
   "source": [
    "### RS ratio\n",
    "AAPL: 93.78\n",
    "\n",
    "MSFT: 78.15\n",
    "\n",
    "GOOG: 55.23"
   ]
  },
  {
   "cell_type": "code",
   "execution_count": 10,
   "metadata": {},
   "outputs": [
    {
     "data": {
      "text/plain": [
       "np.float64(761.9689802253398)"
      ]
     },
     "execution_count": 10,
     "metadata": {},
     "output_type": "execute_result"
    }
   ],
   "source": [
    "selection_function.RS_rating(hist2, benchmark)"
   ]
  },
  {
   "cell_type": "code",
   "execution_count": 11,
   "metadata": {},
   "outputs": [
    {
     "name": "stderr",
     "output_type": "stream",
     "text": [
      "[*********************100%***********************]  1 of 1 completed\n"
     ]
    },
    {
     "data": {
      "text/plain": [
       "np.float64(53.04289304588886)"
      ]
     },
     "execution_count": 11,
     "metadata": {},
     "output_type": "execute_result"
    }
   ],
   "source": [
    "selection_function.RS_rating(selection_function.Benchmark_Data('GOOG'), benchmark)"
   ]
  },
  {
   "cell_type": "code",
   "execution_count": 12,
   "metadata": {},
   "outputs": [
    {
     "data": {
      "text/html": [
       "<div>\n",
       "<style scoped>\n",
       "    .dataframe tbody tr th:only-of-type {\n",
       "        vertical-align: middle;\n",
       "    }\n",
       "\n",
       "    .dataframe tbody tr th {\n",
       "        vertical-align: top;\n",
       "    }\n",
       "\n",
       "    .dataframe thead th {\n",
       "        text-align: right;\n",
       "    }\n",
       "</style>\n",
       "<table border=\"1\" class=\"dataframe\">\n",
       "  <thead>\n",
       "    <tr style=\"text-align: right;\">\n",
       "      <th></th>\n",
       "      <th>Open</th>\n",
       "      <th>High</th>\n",
       "      <th>Low</th>\n",
       "      <th>Close</th>\n",
       "      <th>Volume</th>\n",
       "      <th>Dividends</th>\n",
       "      <th>Stock Splits</th>\n",
       "    </tr>\n",
       "    <tr>\n",
       "      <th>Date</th>\n",
       "      <th></th>\n",
       "      <th></th>\n",
       "      <th></th>\n",
       "      <th></th>\n",
       "      <th></th>\n",
       "      <th></th>\n",
       "      <th></th>\n",
       "    </tr>\n",
       "  </thead>\n",
       "  <tbody>\n",
       "    <tr>\n",
       "      <th>2022-10-18 00:00:00-04:00</th>\n",
       "      <td>12.040000</td>\n",
       "      <td>12.410000</td>\n",
       "      <td>11.830000</td>\n",
       "      <td>12.020000</td>\n",
       "      <td>283700</td>\n",
       "      <td>0.0</td>\n",
       "      <td>0.0</td>\n",
       "    </tr>\n",
       "    <tr>\n",
       "      <th>2022-10-19 00:00:00-04:00</th>\n",
       "      <td>11.910000</td>\n",
       "      <td>12.250000</td>\n",
       "      <td>11.470000</td>\n",
       "      <td>11.700000</td>\n",
       "      <td>142000</td>\n",
       "      <td>0.0</td>\n",
       "      <td>0.0</td>\n",
       "    </tr>\n",
       "    <tr>\n",
       "      <th>2022-10-20 00:00:00-04:00</th>\n",
       "      <td>11.850000</td>\n",
       "      <td>12.050000</td>\n",
       "      <td>11.350000</td>\n",
       "      <td>11.820000</td>\n",
       "      <td>133900</td>\n",
       "      <td>0.0</td>\n",
       "      <td>0.0</td>\n",
       "    </tr>\n",
       "    <tr>\n",
       "      <th>2022-10-21 00:00:00-04:00</th>\n",
       "      <td>11.630000</td>\n",
       "      <td>11.950000</td>\n",
       "      <td>11.150000</td>\n",
       "      <td>11.250000</td>\n",
       "      <td>191600</td>\n",
       "      <td>0.0</td>\n",
       "      <td>0.0</td>\n",
       "    </tr>\n",
       "    <tr>\n",
       "      <th>2022-10-24 00:00:00-04:00</th>\n",
       "      <td>11.270000</td>\n",
       "      <td>11.510000</td>\n",
       "      <td>10.990000</td>\n",
       "      <td>11.330000</td>\n",
       "      <td>125500</td>\n",
       "      <td>0.0</td>\n",
       "      <td>0.0</td>\n",
       "    </tr>\n",
       "    <tr>\n",
       "      <th>...</th>\n",
       "      <td>...</td>\n",
       "      <td>...</td>\n",
       "      <td>...</td>\n",
       "      <td>...</td>\n",
       "      <td>...</td>\n",
       "      <td>...</td>\n",
       "      <td>...</td>\n",
       "    </tr>\n",
       "    <tr>\n",
       "      <th>2024-10-11 00:00:00-04:00</th>\n",
       "      <td>49.669998</td>\n",
       "      <td>52.450001</td>\n",
       "      <td>49.669998</td>\n",
       "      <td>50.709999</td>\n",
       "      <td>441500</td>\n",
       "      <td>0.0</td>\n",
       "      <td>0.0</td>\n",
       "    </tr>\n",
       "    <tr>\n",
       "      <th>2024-10-14 00:00:00-04:00</th>\n",
       "      <td>50.900002</td>\n",
       "      <td>51.209999</td>\n",
       "      <td>49.740002</td>\n",
       "      <td>50.889999</td>\n",
       "      <td>387500</td>\n",
       "      <td>0.0</td>\n",
       "      <td>0.0</td>\n",
       "    </tr>\n",
       "    <tr>\n",
       "      <th>2024-10-15 00:00:00-04:00</th>\n",
       "      <td>50.950001</td>\n",
       "      <td>54.310001</td>\n",
       "      <td>50.560001</td>\n",
       "      <td>53.490002</td>\n",
       "      <td>542100</td>\n",
       "      <td>0.0</td>\n",
       "      <td>0.0</td>\n",
       "    </tr>\n",
       "    <tr>\n",
       "      <th>2024-10-16 00:00:00-04:00</th>\n",
       "      <td>53.830002</td>\n",
       "      <td>55.880001</td>\n",
       "      <td>53.040001</td>\n",
       "      <td>54.820000</td>\n",
       "      <td>526000</td>\n",
       "      <td>0.0</td>\n",
       "      <td>0.0</td>\n",
       "    </tr>\n",
       "    <tr>\n",
       "      <th>2024-10-17 00:00:00-04:00</th>\n",
       "      <td>54.990002</td>\n",
       "      <td>57.200001</td>\n",
       "      <td>54.990002</td>\n",
       "      <td>56.410000</td>\n",
       "      <td>462430</td>\n",
       "      <td>0.0</td>\n",
       "      <td>0.0</td>\n",
       "    </tr>\n",
       "  </tbody>\n",
       "</table>\n",
       "<p>503 rows × 7 columns</p>\n",
       "</div>"
      ],
      "text/plain": [
       "                                Open       High        Low      Close  Volume  \\\n",
       "Date                                                                            \n",
       "2022-10-18 00:00:00-04:00  12.040000  12.410000  11.830000  12.020000  283700   \n",
       "2022-10-19 00:00:00-04:00  11.910000  12.250000  11.470000  11.700000  142000   \n",
       "2022-10-20 00:00:00-04:00  11.850000  12.050000  11.350000  11.820000  133900   \n",
       "2022-10-21 00:00:00-04:00  11.630000  11.950000  11.150000  11.250000  191600   \n",
       "2022-10-24 00:00:00-04:00  11.270000  11.510000  10.990000  11.330000  125500   \n",
       "...                              ...        ...        ...        ...     ...   \n",
       "2024-10-11 00:00:00-04:00  49.669998  52.450001  49.669998  50.709999  441500   \n",
       "2024-10-14 00:00:00-04:00  50.900002  51.209999  49.740002  50.889999  387500   \n",
       "2024-10-15 00:00:00-04:00  50.950001  54.310001  50.560001  53.490002  542100   \n",
       "2024-10-16 00:00:00-04:00  53.830002  55.880001  53.040001  54.820000  526000   \n",
       "2024-10-17 00:00:00-04:00  54.990002  57.200001  54.990002  56.410000  462430   \n",
       "\n",
       "                           Dividends  Stock Splits  \n",
       "Date                                                \n",
       "2022-10-18 00:00:00-04:00        0.0           0.0  \n",
       "2022-10-19 00:00:00-04:00        0.0           0.0  \n",
       "2022-10-20 00:00:00-04:00        0.0           0.0  \n",
       "2022-10-21 00:00:00-04:00        0.0           0.0  \n",
       "2022-10-24 00:00:00-04:00        0.0           0.0  \n",
       "...                              ...           ...  \n",
       "2024-10-11 00:00:00-04:00        0.0           0.0  \n",
       "2024-10-14 00:00:00-04:00        0.0           0.0  \n",
       "2024-10-15 00:00:00-04:00        0.0           0.0  \n",
       "2024-10-16 00:00:00-04:00        0.0           0.0  \n",
       "2024-10-17 00:00:00-04:00        0.0           0.0  \n",
       "\n",
       "[503 rows x 7 columns]"
      ]
     },
     "execution_count": 12,
     "metadata": {},
     "output_type": "execute_result"
    }
   ],
   "source": [
    "hist2"
   ]
  },
  {
   "cell_type": "code",
   "execution_count": 13,
   "metadata": {},
   "outputs": [
    {
     "data": {
      "text/html": [
       "<div>\n",
       "<style scoped>\n",
       "    .dataframe tbody tr th:only-of-type {\n",
       "        vertical-align: middle;\n",
       "    }\n",
       "\n",
       "    .dataframe tbody tr th {\n",
       "        vertical-align: top;\n",
       "    }\n",
       "\n",
       "    .dataframe thead th {\n",
       "        text-align: right;\n",
       "    }\n",
       "</style>\n",
       "<table border=\"1\" class=\"dataframe\">\n",
       "  <thead>\n",
       "    <tr style=\"text-align: right;\">\n",
       "      <th></th>\n",
       "      <th>Open</th>\n",
       "      <th>High</th>\n",
       "      <th>Low</th>\n",
       "      <th>Close</th>\n",
       "      <th>Adj Close</th>\n",
       "      <th>Volume</th>\n",
       "    </tr>\n",
       "    <tr>\n",
       "      <th>Date</th>\n",
       "      <th></th>\n",
       "      <th></th>\n",
       "      <th></th>\n",
       "      <th></th>\n",
       "      <th></th>\n",
       "      <th></th>\n",
       "    </tr>\n",
       "  </thead>\n",
       "  <tbody>\n",
       "    <tr>\n",
       "      <th>2022-10-18</th>\n",
       "      <td>145.490005</td>\n",
       "      <td>146.699997</td>\n",
       "      <td>140.610001</td>\n",
       "      <td>143.750000</td>\n",
       "      <td>142.174713</td>\n",
       "      <td>99136600</td>\n",
       "    </tr>\n",
       "    <tr>\n",
       "      <th>2022-10-19</th>\n",
       "      <td>141.690002</td>\n",
       "      <td>144.949997</td>\n",
       "      <td>141.500000</td>\n",
       "      <td>143.860001</td>\n",
       "      <td>142.283539</td>\n",
       "      <td>61758300</td>\n",
       "    </tr>\n",
       "    <tr>\n",
       "      <th>2022-10-20</th>\n",
       "      <td>143.020004</td>\n",
       "      <td>145.889999</td>\n",
       "      <td>142.649994</td>\n",
       "      <td>143.389999</td>\n",
       "      <td>141.818649</td>\n",
       "      <td>64522000</td>\n",
       "    </tr>\n",
       "    <tr>\n",
       "      <th>2022-10-21</th>\n",
       "      <td>142.869995</td>\n",
       "      <td>147.850006</td>\n",
       "      <td>142.649994</td>\n",
       "      <td>147.270004</td>\n",
       "      <td>145.656158</td>\n",
       "      <td>86548600</td>\n",
       "    </tr>\n",
       "    <tr>\n",
       "      <th>2022-10-24</th>\n",
       "      <td>147.190002</td>\n",
       "      <td>150.229996</td>\n",
       "      <td>146.000000</td>\n",
       "      <td>149.449997</td>\n",
       "      <td>147.812271</td>\n",
       "      <td>75981900</td>\n",
       "    </tr>\n",
       "    <tr>\n",
       "      <th>...</th>\n",
       "      <td>...</td>\n",
       "      <td>...</td>\n",
       "      <td>...</td>\n",
       "      <td>...</td>\n",
       "      <td>...</td>\n",
       "      <td>...</td>\n",
       "    </tr>\n",
       "    <tr>\n",
       "      <th>2024-10-11</th>\n",
       "      <td>229.300003</td>\n",
       "      <td>229.410004</td>\n",
       "      <td>227.339996</td>\n",
       "      <td>227.550003</td>\n",
       "      <td>227.550003</td>\n",
       "      <td>31759200</td>\n",
       "    </tr>\n",
       "    <tr>\n",
       "      <th>2024-10-14</th>\n",
       "      <td>228.699997</td>\n",
       "      <td>231.729996</td>\n",
       "      <td>228.600006</td>\n",
       "      <td>231.300003</td>\n",
       "      <td>231.300003</td>\n",
       "      <td>39882100</td>\n",
       "    </tr>\n",
       "    <tr>\n",
       "      <th>2024-10-15</th>\n",
       "      <td>233.610001</td>\n",
       "      <td>237.490005</td>\n",
       "      <td>232.369995</td>\n",
       "      <td>233.850006</td>\n",
       "      <td>233.850006</td>\n",
       "      <td>64751400</td>\n",
       "    </tr>\n",
       "    <tr>\n",
       "      <th>2024-10-16</th>\n",
       "      <td>231.600006</td>\n",
       "      <td>232.119995</td>\n",
       "      <td>229.839996</td>\n",
       "      <td>231.779999</td>\n",
       "      <td>231.779999</td>\n",
       "      <td>34082200</td>\n",
       "    </tr>\n",
       "    <tr>\n",
       "      <th>2024-10-17</th>\n",
       "      <td>233.440002</td>\n",
       "      <td>233.850006</td>\n",
       "      <td>230.529999</td>\n",
       "      <td>232.149994</td>\n",
       "      <td>232.149994</td>\n",
       "      <td>32263735</td>\n",
       "    </tr>\n",
       "  </tbody>\n",
       "</table>\n",
       "<p>503 rows × 6 columns</p>\n",
       "</div>"
      ],
      "text/plain": [
       "                  Open        High         Low       Close   Adj Close  \\\n",
       "Date                                                                     \n",
       "2022-10-18  145.490005  146.699997  140.610001  143.750000  142.174713   \n",
       "2022-10-19  141.690002  144.949997  141.500000  143.860001  142.283539   \n",
       "2022-10-20  143.020004  145.889999  142.649994  143.389999  141.818649   \n",
       "2022-10-21  142.869995  147.850006  142.649994  147.270004  145.656158   \n",
       "2022-10-24  147.190002  150.229996  146.000000  149.449997  147.812271   \n",
       "...                ...         ...         ...         ...         ...   \n",
       "2024-10-11  229.300003  229.410004  227.339996  227.550003  227.550003   \n",
       "2024-10-14  228.699997  231.729996  228.600006  231.300003  231.300003   \n",
       "2024-10-15  233.610001  237.490005  232.369995  233.850006  233.850006   \n",
       "2024-10-16  231.600006  232.119995  229.839996  231.779999  231.779999   \n",
       "2024-10-17  233.440002  233.850006  230.529999  232.149994  232.149994   \n",
       "\n",
       "              Volume  \n",
       "Date                  \n",
       "2022-10-18  99136600  \n",
       "2022-10-19  61758300  \n",
       "2022-10-20  64522000  \n",
       "2022-10-21  86548600  \n",
       "2022-10-24  75981900  \n",
       "...              ...  \n",
       "2024-10-11  31759200  \n",
       "2024-10-14  39882100  \n",
       "2024-10-15  64751400  \n",
       "2024-10-16  34082200  \n",
       "2024-10-17  32263735  \n",
       "\n",
       "[503 rows x 6 columns]"
      ]
     },
     "execution_count": 13,
     "metadata": {},
     "output_type": "execute_result"
    }
   ],
   "source": [
    "hist"
   ]
  },
  {
   "cell_type": "code",
   "execution_count": 14,
   "metadata": {},
   "outputs": [
    {
     "name": "stdout",
     "output_type": "stream",
     "text": [
      "Date\n",
      "2022-10-18    142.174713\n",
      "2022-10-19    142.283539\n",
      "2022-10-20    141.818649\n",
      "2022-10-21    145.656158\n",
      "2022-10-24    147.812271\n",
      "                 ...    \n",
      "2024-10-11    227.550003\n",
      "2024-10-14    231.300003\n",
      "2024-10-15    233.850006\n",
      "2024-10-16    231.779999\n",
      "2024-10-17    232.149994\n",
      "Name: Adj Close, Length: 503, dtype: float64\n"
     ]
    }
   ],
   "source": [
    "print(hist['Adj Close'])"
   ]
  },
  {
   "cell_type": "code",
   "execution_count": 15,
   "metadata": {},
   "outputs": [
    {
     "data": {
      "text/plain": [
       "np.float64(165.0)"
      ]
     },
     "execution_count": 15,
     "metadata": {},
     "output_type": "execute_result"
    }
   ],
   "source": [
    "hist['Close'][-250:].min()"
   ]
  },
  {
   "cell_type": "code",
   "execution_count": 16,
   "metadata": {},
   "outputs": [],
   "source": [
    "selection_function.MA_Adding(hist)"
   ]
  },
  {
   "cell_type": "code",
   "execution_count": 17,
   "metadata": {},
   "outputs": [],
   "source": [
    "history = hist"
   ]
  },
  {
   "cell_type": "code",
   "execution_count": 18,
   "metadata": {},
   "outputs": [
    {
     "name": "stderr",
     "output_type": "stream",
     "text": [
      "/var/folders/km/vjt389x91b93k1_jy0g3jscc0000gn/T/ipykernel_3610/4274750680.py:1: FutureWarning: Series.__getitem__ treating keys as positions is deprecated. In a future version, integer keys will always be treated as labels (consistent with DataFrame behavior). To access a value by position, use `ser.iloc[pos]`\n",
      "  history['MA200'][-1] - history['MA200'][-30]\n"
     ]
    },
    {
     "data": {
      "text/plain": [
       "np.float64(4.808899993896489)"
      ]
     },
     "execution_count": 18,
     "metadata": {},
     "output_type": "execute_result"
    }
   ],
   "source": [
    "history['MA200'][-1] - history['MA200'][-30]"
   ]
  },
  {
   "cell_type": "code",
   "execution_count": 19,
   "metadata": {},
   "outputs": [
    {
     "ename": "TypeError",
     "evalue": "Stage2_Confirmed_Criteria() missing 1 required positional argument: 'Benchmark'",
     "output_type": "error",
     "traceback": [
      "\u001b[0;31m---------------------------------------------------------------------------\u001b[0m",
      "\u001b[0;31mTypeError\u001b[0m                                 Traceback (most recent call last)",
      "Cell \u001b[0;32mIn[19], line 1\u001b[0m\n\u001b[0;32m----> 1\u001b[0m \u001b[43mtrading_function\u001b[49m\u001b[38;5;241;43m.\u001b[39;49m\u001b[43mStage2_Confirmed_Criteria\u001b[49m\u001b[43m(\u001b[49m\u001b[43mhist\u001b[49m\u001b[43m)\u001b[49m\n",
      "\u001b[0;31mTypeError\u001b[0m: Stage2_Confirmed_Criteria() missing 1 required positional argument: 'Benchmark'"
     ]
    }
   ],
   "source": [
    "selection_function.Stage2_Confirmed_Criteria(hist)"
   ]
  },
  {
   "cell_type": "code",
   "execution_count": 5,
   "metadata": {},
   "outputs": [],
   "source": [
    "if None:\n",
    "    print(3)"
   ]
  },
  {
   "cell_type": "code",
   "execution_count": 6,
   "metadata": {},
   "outputs": [
    {
     "name": "stderr",
     "output_type": "stream",
     "text": [
      "/Users/nick0o0o0/Library/Mobile Documents/com~apple~CloudDocs/gxyfile/Trading/Stocks_selection/trading_function.py:23: FutureWarning: Series.__getitem__ treating keys as positions is deprecated. In a future version, integer keys will always be treated as labels (consistent with DataFrame behavior). To access a value by position, use `ser.iloc[pos]`\n",
      "  return history[col][-1]\n"
     ]
    },
    {
     "data": {
      "text/plain": [
       "np.float64(44.7997501373291)"
      ]
     },
     "execution_count": 6,
     "metadata": {},
     "output_type": "execute_result"
    }
   ],
   "source": [
    "selection_function.MA(hist, 40)"
   ]
  },
  {
   "cell_type": "code",
   "execution_count": 7,
   "metadata": {},
   "outputs": [
    {
     "name": "stderr",
     "output_type": "stream",
     "text": [
      "/var/folders/km/vjt389x91b93k1_jy0g3jscc0000gn/T/ipykernel_44633/2870509874.py:1: FutureWarning: Series.__getitem__ treating keys as positions is deprecated. In a future version, integer keys will always be treated as labels (consistent with DataFrame behavior). To access a value by position, use `ser.iloc[pos]`\n",
      "  hist['Close'][-1]\n"
     ]
    },
    {
     "data": {
      "text/plain": [
       "np.float64(54.81999969482422)"
      ]
     },
     "execution_count": 7,
     "metadata": {},
     "output_type": "execute_result"
    }
   ],
   "source": [
    "hist['Close'][-1]"
   ]
  },
  {
   "cell_type": "code",
   "execution_count": 8,
   "metadata": {},
   "outputs": [
    {
     "ename": "AttributeError",
     "evalue": "module 'trading_function' has no attribute 'TransStage2_price_Criteria'",
     "output_type": "error",
     "traceback": [
      "\u001b[0;31m---------------------------------------------------------------------------\u001b[0m",
      "\u001b[0;31mAttributeError\u001b[0m                            Traceback (most recent call last)",
      "Cell \u001b[0;32mIn[8], line 1\u001b[0m\n\u001b[0;32m----> 1\u001b[0m \u001b[43mtrading_function\u001b[49m\u001b[38;5;241;43m.\u001b[39;49m\u001b[43mTransStage2_price_Criteria\u001b[49m(hist)\n",
      "\u001b[0;31mAttributeError\u001b[0m: module 'trading_function' has no attribute 'TransStage2_price_Criteria'"
     ]
    }
   ],
   "source": [
    "selection_function.TransStage2_price_Criteria(hist)"
   ]
  },
  {
   "cell_type": "markdown",
   "metadata": {},
   "source": []
  },
  {
   "cell_type": "code",
   "execution_count": 9,
   "metadata": {},
   "outputs": [
    {
     "name": "stderr",
     "output_type": "stream",
     "text": [
      "[*********************100%***********************]  1 of 1 completed\n",
      "[*********************100%***********************]  1 of 1 completed\n",
      "[*********************100%***********************]  1 of 1 completed\n",
      "[*********************100%***********************]  1 of 1 completed\n"
     ]
    },
    {
     "name": "stdout",
     "output_type": "stream",
     "text": [
      "RS Score for AAPL: 93.78\n"
     ]
    },
    {
     "name": "stderr",
     "output_type": "stream",
     "text": [
      "[*********************100%***********************]  1 of 1 completed"
     ]
    },
    {
     "name": "stdout",
     "output_type": "stream",
     "text": [
      "\n",
      "RS Rankings:\n",
      "AAPL: 93.78\n",
      "MSFT: 78.15\n",
      "GOOG: 55.23\n"
     ]
    },
    {
     "name": "stderr",
     "output_type": "stream",
     "text": [
      "\n"
     ]
    }
   ],
   "source": [
    "# Define the stock ticker and benchmark (S&P 500)\n",
    "stock_ticker = 'AAPL'\n",
    "benchmark_ticker = '^GSPC'\n",
    "\n",
    "# Download historical price data\n",
    "stock_data = yf.download(stock_ticker, period='1y')\n",
    "benchmark_data = yf.download(benchmark_ticker, period='1y')\n",
    "\n",
    "# Calculate 12-month price change\n",
    "stock_price_change = (stock_data['Adj Close'].iloc[-1] / stock_data['Adj Close'].iloc[0]) - 1\n",
    "benchmark_price_change = (benchmark_data['Adj Close'].iloc[-1] / benchmark_data['Adj Close'].iloc[0]) - 1\n",
    "\n",
    "# Calculate Relative Strength (RS)\n",
    "rs_score = (stock_price_change / benchmark_price_change) * 100\n",
    "\n",
    "print(f\"RS Score for {stock_ticker}: {rs_score:.2f}\")\n",
    "\n",
    "# Rank stocks (example with 3 stocks)\n",
    "stock_tickers = ['AAPL', 'GOOG', 'MSFT']\n",
    "rs_scores = {}\n",
    "\n",
    "for ticker in stock_tickers:\n",
    "    stock_data = yf.download(ticker, period='1y')\n",
    "    stock_price_change = (stock_data['Adj Close'].iloc[-1] / stock_data['Adj Close'].iloc[0]) - 1\n",
    "    rs_score = (stock_price_change / benchmark_price_change) * 100\n",
    "    rs_scores[ticker] = rs_score\n",
    "\n",
    "# Sort and print RS rankings\n",
    "sorted_rs_scores = sorted(rs_scores.items(), key=lambda x: x[1], reverse=True)\n",
    "print(\"\\nRS Rankings:\")\n",
    "for ticker, score in sorted_rs_scores:\n",
    "    print(f\"{ticker}: {score:.2f}\")"
   ]
  },
  {
   "cell_type": "code",
   "execution_count": 4,
   "metadata": {},
   "outputs": [],
   "source": [
    "#trading_function.Kline_Plot(ticker, hist)\n",
    "#trading_function.Kline_Plot(ticker2, hist2)"
   ]
  },
  {
   "cell_type": "code",
   "execution_count": 5,
   "metadata": {},
   "outputs": [
    {
     "data": {
      "text/html": [
       "<div>\n",
       "<style scoped>\n",
       "    .dataframe tbody tr th:only-of-type {\n",
       "        vertical-align: middle;\n",
       "    }\n",
       "\n",
       "    .dataframe tbody tr th {\n",
       "        vertical-align: top;\n",
       "    }\n",
       "\n",
       "    .dataframe thead th {\n",
       "        text-align: right;\n",
       "    }\n",
       "</style>\n",
       "<table border=\"1\" class=\"dataframe\">\n",
       "  <thead>\n",
       "    <tr style=\"text-align: right;\">\n",
       "      <th></th>\n",
       "      <th>Open</th>\n",
       "      <th>High</th>\n",
       "      <th>Low</th>\n",
       "      <th>Close</th>\n",
       "      <th>Volume</th>\n",
       "      <th>Dividends</th>\n",
       "      <th>Stock Splits</th>\n",
       "    </tr>\n",
       "    <tr>\n",
       "      <th>Date</th>\n",
       "      <th></th>\n",
       "      <th></th>\n",
       "      <th></th>\n",
       "      <th></th>\n",
       "      <th></th>\n",
       "      <th></th>\n",
       "      <th></th>\n",
       "    </tr>\n",
       "  </thead>\n",
       "  <tbody>\n",
       "    <tr>\n",
       "      <th>2024-01-02 00:00:00-05:00</th>\n",
       "      <td>186.442503</td>\n",
       "      <td>187.727635</td>\n",
       "      <td>183.194833</td>\n",
       "      <td>184.938217</td>\n",
       "      <td>82488700</td>\n",
       "      <td>0.0</td>\n",
       "      <td>0.0</td>\n",
       "    </tr>\n",
       "    <tr>\n",
       "      <th>2024-01-03 00:00:00-05:00</th>\n",
       "      <td>183.523597</td>\n",
       "      <td>185.177325</td>\n",
       "      <td>182.736575</td>\n",
       "      <td>183.553482</td>\n",
       "      <td>58414500</td>\n",
       "      <td>0.0</td>\n",
       "      <td>0.0</td>\n",
       "    </tr>\n",
       "    <tr>\n",
       "      <th>2024-01-04 00:00:00-05:00</th>\n",
       "      <td>181.461404</td>\n",
       "      <td>182.397852</td>\n",
       "      <td>180.196216</td>\n",
       "      <td>181.222321</td>\n",
       "      <td>71983600</td>\n",
       "      <td>0.0</td>\n",
       "      <td>0.0</td>\n",
       "    </tr>\n",
       "  </tbody>\n",
       "</table>\n",
       "</div>"
      ],
      "text/plain": [
       "                                 Open        High         Low       Close  \\\n",
       "Date                                                                        \n",
       "2024-01-02 00:00:00-05:00  186.442503  187.727635  183.194833  184.938217   \n",
       "2024-01-03 00:00:00-05:00  183.523597  185.177325  182.736575  183.553482   \n",
       "2024-01-04 00:00:00-05:00  181.461404  182.397852  180.196216  181.222321   \n",
       "\n",
       "                             Volume  Dividends  Stock Splits  \n",
       "Date                                                          \n",
       "2024-01-02 00:00:00-05:00  82488700        0.0           0.0  \n",
       "2024-01-03 00:00:00-05:00  58414500        0.0           0.0  \n",
       "2024-01-04 00:00:00-05:00  71983600        0.0           0.0  "
      ]
     },
     "execution_count": 5,
     "metadata": {},
     "output_type": "execute_result"
    }
   ],
   "source": [
    "hist.head(3)"
   ]
  },
  {
   "cell_type": "code",
   "execution_count": 6,
   "metadata": {},
   "outputs": [
    {
     "ename": "AttributeError",
     "evalue": "'NoneType' object has no attribute 'head'",
     "output_type": "error",
     "traceback": [
      "\u001b[0;31m---------------------------------------------------------------------------\u001b[0m",
      "\u001b[0;31mAttributeError\u001b[0m                            Traceback (most recent call last)",
      "Cell \u001b[0;32mIn[6], line 1\u001b[0m\n\u001b[0;32m----> 1\u001b[0m \u001b[43mtrading_function\u001b[49m\u001b[38;5;241;43m.\u001b[39;49m\u001b[43mMA\u001b[49m\u001b[43m(\u001b[49m\u001b[43mhist\u001b[49m\u001b[43m,\u001b[49m\u001b[43m \u001b[49m\u001b[38;5;241;43m50\u001b[39;49m\u001b[43m)\u001b[49m\u001b[38;5;241;43m.\u001b[39;49m\u001b[43mhead\u001b[49m()\n",
      "\u001b[0;31mAttributeError\u001b[0m: 'NoneType' object has no attribute 'head'"
     ]
    }
   ],
   "source": [
    "selection_function.MA(hist, 50).head()"
   ]
  },
  {
   "cell_type": "code",
   "execution_count": null,
   "metadata": {},
   "outputs": [],
   "source": [
    "import yfinance as yf\n",
    "import plotly.graph_objects as go\n",
    "from plotly.subplots import make_subplots\n",
    "\n",
    "# Fetch historical stock data\n",
    "ticker = 'AAPL'\n",
    "data = yf.download(ticker, start='2023-01-01', end='2023-10-01')\n",
    "\n",
    "# Create a subplot with two rows (one for candlestick, one for volume)\n",
    "fig = make_subplots(rows=2, cols=1, shared_xaxes=True, \n",
    "                    vertical_spacing=0.03, subplot_titles=(f'Candlestick Chart for {ticker}', 'Volume'), \n",
    "                    row_width=[0.2, 0.7])\n",
    "\n",
    "# Add candlestick chart in the first row\n",
    "fig.add_trace(go.Candlestick(x=data.index,\n",
    "                             open=data['Open'],\n",
    "                             high=data['High'],\n",
    "                             low=data['Low'],\n",
    "                             close=data['Close'],\n",
    "                             name='Price'), row=1, col=1)\n",
    "\n",
    "# Add volume bars in the second row\n",
    "fig.add_trace(go.Bar(x=data.index, y=data['Volume'], showlegend=False, name='Volume'), row=2, col=1)\n",
    "\n",
    "# Update layout\n",
    "fig.update_layout(title=f'{ticker} Candlestick Chart with Volume',\n",
    "                  xaxis_title='Date',\n",
    "                  yaxis_title='Price (USD)',\n",
    "                  xaxis_rangeslider_visible=False)\n",
    "\n",
    "# Show the plot\n",
    "fig.show()"
   ]
  },
  {
   "cell_type": "code",
   "execution_count": 20,
   "metadata": {},
   "outputs": [
    {
     "data": {
      "text/html": [
       "<div>\n",
       "<style scoped>\n",
       "    .dataframe tbody tr th:only-of-type {\n",
       "        vertical-align: middle;\n",
       "    }\n",
       "\n",
       "    .dataframe tbody tr th {\n",
       "        vertical-align: top;\n",
       "    }\n",
       "\n",
       "    .dataframe thead th {\n",
       "        text-align: right;\n",
       "    }\n",
       "</style>\n",
       "<table border=\"1\" class=\"dataframe\">\n",
       "  <thead>\n",
       "    <tr style=\"text-align: right;\">\n",
       "      <th></th>\n",
       "      <th>Open</th>\n",
       "      <th>High</th>\n",
       "      <th>Low</th>\n",
       "      <th>Close</th>\n",
       "      <th>Adj Close</th>\n",
       "      <th>Volume</th>\n",
       "    </tr>\n",
       "    <tr>\n",
       "      <th>Date</th>\n",
       "      <th></th>\n",
       "      <th></th>\n",
       "      <th></th>\n",
       "      <th></th>\n",
       "      <th></th>\n",
       "      <th></th>\n",
       "    </tr>\n",
       "  </thead>\n",
       "  <tbody>\n",
       "    <tr>\n",
       "      <th>2023-01-03</th>\n",
       "      <td>130.279999</td>\n",
       "      <td>130.899994</td>\n",
       "      <td>124.169998</td>\n",
       "      <td>125.070000</td>\n",
       "      <td>123.904633</td>\n",
       "      <td>112117500</td>\n",
       "    </tr>\n",
       "    <tr>\n",
       "      <th>2023-01-04</th>\n",
       "      <td>126.889999</td>\n",
       "      <td>128.660004</td>\n",
       "      <td>125.080002</td>\n",
       "      <td>126.360001</td>\n",
       "      <td>125.182602</td>\n",
       "      <td>89113600</td>\n",
       "    </tr>\n",
       "    <tr>\n",
       "      <th>2023-01-05</th>\n",
       "      <td>127.129997</td>\n",
       "      <td>127.769997</td>\n",
       "      <td>124.760002</td>\n",
       "      <td>125.019997</td>\n",
       "      <td>123.855095</td>\n",
       "      <td>80962700</td>\n",
       "    </tr>\n",
       "    <tr>\n",
       "      <th>2023-01-06</th>\n",
       "      <td>126.010002</td>\n",
       "      <td>130.289993</td>\n",
       "      <td>124.889999</td>\n",
       "      <td>129.619995</td>\n",
       "      <td>128.412231</td>\n",
       "      <td>87754700</td>\n",
       "    </tr>\n",
       "    <tr>\n",
       "      <th>2023-01-09</th>\n",
       "      <td>130.470001</td>\n",
       "      <td>133.410004</td>\n",
       "      <td>129.889999</td>\n",
       "      <td>130.149994</td>\n",
       "      <td>128.937302</td>\n",
       "      <td>70790800</td>\n",
       "    </tr>\n",
       "    <tr>\n",
       "      <th>...</th>\n",
       "      <td>...</td>\n",
       "      <td>...</td>\n",
       "      <td>...</td>\n",
       "      <td>...</td>\n",
       "      <td>...</td>\n",
       "      <td>...</td>\n",
       "    </tr>\n",
       "    <tr>\n",
       "      <th>2023-09-25</th>\n",
       "      <td>174.199997</td>\n",
       "      <td>176.970001</td>\n",
       "      <td>174.149994</td>\n",
       "      <td>176.080002</td>\n",
       "      <td>175.183578</td>\n",
       "      <td>46172700</td>\n",
       "    </tr>\n",
       "    <tr>\n",
       "      <th>2023-09-26</th>\n",
       "      <td>174.820007</td>\n",
       "      <td>175.199997</td>\n",
       "      <td>171.660004</td>\n",
       "      <td>171.960007</td>\n",
       "      <td>171.084549</td>\n",
       "      <td>64588900</td>\n",
       "    </tr>\n",
       "    <tr>\n",
       "      <th>2023-09-27</th>\n",
       "      <td>172.619995</td>\n",
       "      <td>173.039993</td>\n",
       "      <td>169.050003</td>\n",
       "      <td>170.429993</td>\n",
       "      <td>169.562317</td>\n",
       "      <td>66921800</td>\n",
       "    </tr>\n",
       "    <tr>\n",
       "      <th>2023-09-28</th>\n",
       "      <td>169.339996</td>\n",
       "      <td>172.029999</td>\n",
       "      <td>167.619995</td>\n",
       "      <td>170.690002</td>\n",
       "      <td>169.821014</td>\n",
       "      <td>56294400</td>\n",
       "    </tr>\n",
       "    <tr>\n",
       "      <th>2023-09-29</th>\n",
       "      <td>172.020004</td>\n",
       "      <td>173.070007</td>\n",
       "      <td>170.339996</td>\n",
       "      <td>171.210007</td>\n",
       "      <td>170.338364</td>\n",
       "      <td>51814200</td>\n",
       "    </tr>\n",
       "  </tbody>\n",
       "</table>\n",
       "<p>187 rows × 6 columns</p>\n",
       "</div>"
      ],
      "text/plain": [
       "                  Open        High         Low       Close   Adj Close  \\\n",
       "Date                                                                     \n",
       "2023-01-03  130.279999  130.899994  124.169998  125.070000  123.904633   \n",
       "2023-01-04  126.889999  128.660004  125.080002  126.360001  125.182602   \n",
       "2023-01-05  127.129997  127.769997  124.760002  125.019997  123.855095   \n",
       "2023-01-06  126.010002  130.289993  124.889999  129.619995  128.412231   \n",
       "2023-01-09  130.470001  133.410004  129.889999  130.149994  128.937302   \n",
       "...                ...         ...         ...         ...         ...   \n",
       "2023-09-25  174.199997  176.970001  174.149994  176.080002  175.183578   \n",
       "2023-09-26  174.820007  175.199997  171.660004  171.960007  171.084549   \n",
       "2023-09-27  172.619995  173.039993  169.050003  170.429993  169.562317   \n",
       "2023-09-28  169.339996  172.029999  167.619995  170.690002  169.821014   \n",
       "2023-09-29  172.020004  173.070007  170.339996  171.210007  170.338364   \n",
       "\n",
       "               Volume  \n",
       "Date                   \n",
       "2023-01-03  112117500  \n",
       "2023-01-04   89113600  \n",
       "2023-01-05   80962700  \n",
       "2023-01-06   87754700  \n",
       "2023-01-09   70790800  \n",
       "...               ...  \n",
       "2023-09-25   46172700  \n",
       "2023-09-26   64588900  \n",
       "2023-09-27   66921800  \n",
       "2023-09-28   56294400  \n",
       "2023-09-29   51814200  \n",
       "\n",
       "[187 rows x 6 columns]"
      ]
     },
     "execution_count": 20,
     "metadata": {},
     "output_type": "execute_result"
    }
   ],
   "source": [
    "data"
   ]
  },
  {
   "cell_type": "markdown",
   "metadata": {},
   "source": [
    "\\\n",
    "adadajdaj"
   ]
  }
 ],
 "metadata": {
  "kernelspec": {
   "display_name": "Python 3",
   "language": "python",
   "name": "python3"
  },
  "language_info": {
   "codemirror_mode": {
    "name": "ipython",
    "version": 3
   },
   "file_extension": ".py",
   "mimetype": "text/x-python",
   "name": "python",
   "nbconvert_exporter": "python",
   "pygments_lexer": "ipython3",
   "version": "3.11.1"
  }
 },
 "nbformat": 4,
 "nbformat_minor": 2
}
